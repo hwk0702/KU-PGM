{
 "metadata": {
  "language_info": {
   "codemirror_mode": {
    "name": "ipython",
    "version": 3
   },
   "file_extension": ".py",
   "mimetype": "text/x-python",
   "name": "python",
   "nbconvert_exporter": "python",
   "pygments_lexer": "ipython3",
   "version": "3.6.9"
  },
  "orig_nbformat": 2,
  "kernelspec": {
   "name": "python369jvsc74a57bd0767d51c1340bd893661ea55ea3124f6de3c7a262a8b4abca0554b478b1e2ff90",
   "display_name": "Python 3.6.9 64-bit"
  }
 },
 "nbformat": 4,
 "nbformat_minor": 2,
 "cells": [
  {
   "cell_type": "code",
   "execution_count": 68,
   "metadata": {},
   "outputs": [],
   "source": [
    "import pandas as pd\n",
    "import pickle\n",
    "import warnings\n",
    "warnings.filterwarnings(action='ignore') \n",
    "\n",
    "\n",
    "def save_pkl(data, path):\n",
    "    with open(path, 'wb') as ww:\n",
    "        pickle.dump(data, ww)\n",
    "        \n",
    "def load_pkl(path):\n",
    "    with open(path, 'rb') as rr:\n",
    "        data = pickle.load(rr)\n",
    "    return data"
   ]
  },
  {
   "source": [
    "## Load Data"
   ],
   "cell_type": "markdown",
   "metadata": {}
  },
  {
   "cell_type": "code",
   "execution_count": 4,
   "metadata": {},
   "outputs": [],
   "source": [
    "london_raw = load_pkl('../data/london.pkl')\n",
    "station_info = pd.read_csv('../data/london_stations.csv')"
   ]
  },
  {
   "source": [
    "## 공통 전처리"
   ],
   "cell_type": "markdown",
   "metadata": {}
  },
  {
   "cell_type": "code",
   "execution_count": 6,
   "metadata": {},
   "outputs": [],
   "source": [
    "london = london_raw.dropna(axis=0)"
   ]
  },
  {
   "cell_type": "code",
   "execution_count": 7,
   "metadata": {},
   "outputs": [
    {
     "output_type": "stream",
     "name": "stdout",
     "text": [
      "raw   data : 38215560\nna rm data : 38147278\n"
     ]
    }
   ],
   "source": [
    "print(\"raw   data :\", len(london_raw))\n",
    "print(\"na rm data :\", len(london))"
   ]
  },
  {
   "cell_type": "code",
   "execution_count": 8,
   "metadata": {},
   "outputs": [],
   "source": [
    "station_list = set(london['start_station_name'].unique()) & set(station_info['station_name'].unique()) & set(london['end_station_name'].unique())"
   ]
  },
  {
   "cell_type": "code",
   "execution_count": 9,
   "metadata": {},
   "outputs": [
    {
     "output_type": "stream",
     "name": "stdout",
     "text": [
      "802 758\n"
     ]
    }
   ],
   "source": [
    "print(len(list(station_info['station_name'])), len(list(station_list)))"
   ]
  },
  {
   "cell_type": "code",
   "execution_count": 10,
   "metadata": {},
   "outputs": [],
   "source": [
    "station_tbr = [item for item in station_info['station_name'] if item not in list(station_list)]"
   ]
  },
  {
   "source": [
    "## Case에 맞게 전처리"
   ],
   "cell_type": "markdown",
   "metadata": {}
  },
  {
   "source": [
    "### Case 2: 대여 요일 별 분석 - 평일/주말"
   ],
   "cell_type": "markdown",
   "metadata": {}
  },
  {
   "cell_type": "code",
   "execution_count": 28,
   "metadata": {},
   "outputs": [],
   "source": [
    "import datetime"
   ]
  },
  {
   "cell_type": "code",
   "execution_count": 82,
   "metadata": {},
   "outputs": [],
   "source": [
    "week_values = pd.to_datetime(london.start_rental_date_time.values, format = \"%Y-%m-%d %H:%M:%S\")\n",
    "week_values = [date.weekday() for date in week_values]\n",
    "london.loc[:, 'weekday'] = week_values"
   ]
  },
  {
   "cell_type": "code",
   "execution_count": 84,
   "metadata": {},
   "outputs": [],
   "source": [
    "london_weekday = london.query(\"weekday < 5\")\n",
    "london_weekend = london.query(\"weekday >= 5\")"
   ]
  },
  {
   "cell_type": "code",
   "execution_count": 88,
   "metadata": {},
   "outputs": [],
   "source": [
    "london_weekday = london_weekday.drop('weekday', axis = 1)\n",
    "london_weekend = london_weekend.drop('weekday', axis = 1)"
   ]
  },
  {
   "cell_type": "code",
   "execution_count": 94,
   "metadata": {},
   "outputs": [],
   "source": [
    "# COVID-19 전후 data 분할"
   ]
  },
  {
   "cell_type": "code",
   "execution_count": 101,
   "metadata": {},
   "outputs": [],
   "source": [
    "def covid_divide(data):\n",
    "    data_entire = data\n",
    "    data_before = data.query(\"start_rental_date_time >= '2019-01-01' and start_rental_date_time < '2019-09-01'\")\n",
    "    data_after = data.query(\"start_rental_date_time >= '2020-01-01' and start_rental_date_time < '2020-09-01'\")\n",
    "\n",
    "\n",
    "    # 전체/전/후\n",
    "    data_entire['end_station_id'] = data_entire['end_station_id'].astype('float')\n",
    "    data_before['end_station_id'] = data_before['end_station_id'].astype('float')\n",
    "    data_after['end_station_id'] = data_after['end_station_id'].astype('float')\n",
    "\n",
    "    return data_entire, data_before, data_after"
   ]
  },
  {
   "cell_type": "code",
   "execution_count": 102,
   "metadata": {},
   "outputs": [],
   "source": [
    "weekday_entire, weekday_before, weekday_after = covid_divide(london_weekday)"
   ]
  },
  {
   "source": [
    "## Co_occurence matrix 만드는 코드"
   ],
   "cell_type": "markdown",
   "metadata": {}
  },
  {
   "cell_type": "code",
   "execution_count": 105,
   "metadata": {},
   "outputs": [],
   "source": [
    "def make_co_matrix(data):\n",
    "    co_matrix = pd.crosstab(data['start_station_id'], data['end_station_id'])\n",
    "    return co_matrix"
   ]
  },
  {
   "cell_type": "code",
   "execution_count": 108,
   "metadata": {},
   "outputs": [],
   "source": [
    "co_matrix_en = make_co_matrix(weekday_entire)\n",
    "co_matrix_bf = make_co_matrix(weekday_before)\n",
    "co_matrix_af = make_co_matrix(weekday_after)"
   ]
  },
  {
   "cell_type": "code",
   "execution_count": 109,
   "metadata": {},
   "outputs": [],
   "source": [
    "import os; \n",
    "\n",
    "case = 2\n",
    "case_path = f'../data/preprocessed/case-{case}'\n",
    "try: \n",
    "    os.mkdir(case_path)\n",
    "except: \n",
    "    print('already exits')"
   ]
  },
  {
   "cell_type": "code",
   "execution_count": 110,
   "metadata": {},
   "outputs": [],
   "source": [
    "co_matrix_en.to_csv(case_path+\"/co_matrix_en.csv\")\n",
    "co_matrix_bc.to_csv(case_path+\"/co_matrix_bf.csv\")\n",
    "co_matrix_ac.to_csv(case_path+\"/co_matrix_af.csv\")"
   ]
  },
  {
   "cell_type": "code",
   "execution_count": null,
   "metadata": {},
   "outputs": [],
   "source": []
  }
 ]
}