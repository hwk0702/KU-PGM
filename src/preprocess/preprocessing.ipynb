{
 "cells": [
  {
   "cell_type": "code",
   "execution_count": 1,
   "id": "downtown-corner",
   "metadata": {},
   "outputs": [],
   "source": [
    "import pandas as pd"
   ]
  },
  {
   "cell_type": "markdown",
   "id": "marked-charger",
   "metadata": {},
   "source": [
    "### Load Data"
   ]
  },
  {
   "cell_type": "code",
   "execution_count": 2,
   "id": "danish-stake",
   "metadata": {},
   "outputs": [],
   "source": [
    "london_raw = pd.read_csv('london.csv')"
   ]
  },
  {
   "cell_type": "code",
   "execution_count": 3,
   "id": "passive-excess",
   "metadata": {},
   "outputs": [],
   "source": [
    "station_info = pd.read_csv('london_stations.csv')"
   ]
  },
  {
   "cell_type": "code",
   "execution_count": 4,
   "id": "devoted-festival",
   "metadata": {},
   "outputs": [
    {
     "data": {
      "text/html": [
       "<div>\n",
       "<style scoped>\n",
       "    .dataframe tbody tr th:only-of-type {\n",
       "        vertical-align: middle;\n",
       "    }\n",
       "\n",
       "    .dataframe tbody tr th {\n",
       "        vertical-align: top;\n",
       "    }\n",
       "\n",
       "    .dataframe thead th {\n",
       "        text-align: right;\n",
       "    }\n",
       "</style>\n",
       "<table border=\"1\" class=\"dataframe\">\n",
       "  <thead>\n",
       "    <tr style=\"text-align: right;\">\n",
       "      <th></th>\n",
       "      <th>station_id</th>\n",
       "      <th>station_name</th>\n",
       "      <th>longitude</th>\n",
       "      <th>latitude</th>\n",
       "    </tr>\n",
       "  </thead>\n",
       "  <tbody>\n",
       "    <tr>\n",
       "      <th>0</th>\n",
       "      <td>1</td>\n",
       "      <td>River Street, Clerkenwell</td>\n",
       "      <td>-0.109971</td>\n",
       "      <td>51.5292</td>\n",
       "    </tr>\n",
       "    <tr>\n",
       "      <th>1</th>\n",
       "      <td>2</td>\n",
       "      <td>Phillimore Gardens, Kensington</td>\n",
       "      <td>-0.197574</td>\n",
       "      <td>51.4996</td>\n",
       "    </tr>\n",
       "    <tr>\n",
       "      <th>2</th>\n",
       "      <td>3</td>\n",
       "      <td>Christopher Street, Liverpool Street</td>\n",
       "      <td>-0.084606</td>\n",
       "      <td>51.5213</td>\n",
       "    </tr>\n",
       "    <tr>\n",
       "      <th>3</th>\n",
       "      <td>4</td>\n",
       "      <td>St. Chad's Street, King's Cross</td>\n",
       "      <td>-0.120974</td>\n",
       "      <td>51.5301</td>\n",
       "    </tr>\n",
       "    <tr>\n",
       "      <th>4</th>\n",
       "      <td>5</td>\n",
       "      <td>Sedding Street, Sloane Square</td>\n",
       "      <td>-0.156876</td>\n",
       "      <td>51.4931</td>\n",
       "    </tr>\n",
       "  </tbody>\n",
       "</table>\n",
       "</div>"
      ],
      "text/plain": [
       "   station_id                          station_name  longitude  latitude\n",
       "0           1             River Street, Clerkenwell  -0.109971   51.5292\n",
       "1           2        Phillimore Gardens, Kensington  -0.197574   51.4996\n",
       "2           3  Christopher Street, Liverpool Street  -0.084606   51.5213\n",
       "3           4       St. Chad's Street, King's Cross  -0.120974   51.5301\n",
       "4           5         Sedding Street, Sloane Square  -0.156876   51.4931"
      ]
     },
     "execution_count": 4,
     "metadata": {},
     "output_type": "execute_result"
    }
   ],
   "source": [
    "station_info.head()"
   ]
  },
  {
   "cell_type": "markdown",
   "id": "equipped-converter",
   "metadata": {},
   "source": [
    "### Preprocessing"
   ]
  },
  {
   "cell_type": "markdown",
   "id": "middle-skirt",
   "metadata": {},
   "source": [
    "##### 1. Remove NAs"
   ]
  },
  {
   "cell_type": "code",
   "execution_count": 5,
   "id": "handed-harvey",
   "metadata": {},
   "outputs": [],
   "source": [
    "london = london_raw.dropna(axis=0)"
   ]
  },
  {
   "cell_type": "code",
   "execution_count": 6,
   "id": "beautiful-probe",
   "metadata": {},
   "outputs": [
    {
     "name": "stdout",
     "output_type": "stream",
     "text": [
      "raw   data : 38215560\n",
      "na rm data : 38147278\n"
     ]
    }
   ],
   "source": [
    "print(\"raw   data :\", len(london_raw))\n",
    "print(\"na rm data :\", len(london))"
   ]
  },
  {
   "cell_type": "markdown",
   "id": "sorted-ladder",
   "metadata": {},
   "source": [
    "##### 2. Convert data type"
   ]
  },
  {
   "cell_type": "code",
   "execution_count": 7,
   "id": "accompanied-outdoors",
   "metadata": {},
   "outputs": [
    {
     "name": "stderr",
     "output_type": "stream",
     "text": [
      "/usr/local/lib/python3.6/dist-packages/ipykernel_launcher.py:2: SettingWithCopyWarning: \n",
      "A value is trying to be set on a copy of a slice from a DataFrame.\n",
      "Try using .loc[row_indexer,col_indexer] = value instead\n",
      "\n",
      "See the caveats in the documentation: https://pandas.pydata.org/pandas-docs/stable/user_guide/indexing.html#returning-a-view-versus-a-copy\n",
      "  \n",
      "/usr/local/lib/python3.6/dist-packages/ipykernel_launcher.py:3: SettingWithCopyWarning: \n",
      "A value is trying to be set on a copy of a slice from a DataFrame.\n",
      "Try using .loc[row_indexer,col_indexer] = value instead\n",
      "\n",
      "See the caveats in the documentation: https://pandas.pydata.org/pandas-docs/stable/user_guide/indexing.html#returning-a-view-versus-a-copy\n",
      "  This is separate from the ipykernel package so we can avoid doing imports until\n"
     ]
    }
   ],
   "source": [
    "# convert type to integer of `start_station_id` & `end_station_id`\n",
    "london['start_station_id'] = london['start_station_id'].astype('int64')\n",
    "london['end_station_id'] = london['end_station_id'].astype('int64')"
   ]
  },
  {
   "cell_type": "markdown",
   "id": "balanced-luxembourg",
   "metadata": {},
   "source": [
    "##### 3. Filter stations which do not appear in the `station_info`"
   ]
  },
  {
   "cell_type": "code",
   "execution_count": 8,
   "id": "fifth-minister",
   "metadata": {},
   "outputs": [],
   "source": [
    "station_list = set(london['start_station_id'].unique()) & set(station_info['station_id'].unique()) & set(london['end_station_id'].unique())"
   ]
  },
  {
   "cell_type": "code",
   "execution_count": 9,
   "id": "another-afghanistan",
   "metadata": {},
   "outputs": [
    {
     "data": {
      "text/plain": [
       "807"
      ]
     },
     "execution_count": 9,
     "metadata": {},
     "output_type": "execute_result"
    }
   ],
   "source": [
    "len(london['start_station_id'].unique())"
   ]
  },
  {
   "cell_type": "code",
   "execution_count": 10,
   "id": "anonymous-oakland",
   "metadata": {},
   "outputs": [
    {
     "data": {
      "text/plain": [
       "808"
      ]
     },
     "execution_count": 10,
     "metadata": {},
     "output_type": "execute_result"
    }
   ],
   "source": [
    "len(london['end_station_id'].unique())"
   ]
  },
  {
   "cell_type": "code",
   "execution_count": 11,
   "id": "atmospheric-archive",
   "metadata": {},
   "outputs": [
    {
     "data": {
      "text/plain": [
       "801"
      ]
     },
     "execution_count": 11,
     "metadata": {},
     "output_type": "execute_result"
    }
   ],
   "source": [
    "len(station_list)"
   ]
  },
  {
   "cell_type": "code",
   "execution_count": 12,
   "id": "tribal-forty",
   "metadata": {},
   "outputs": [],
   "source": [
    "start_id_unk = set.difference(set(london['start_station_id']), station_list)"
   ]
  },
  {
   "cell_type": "code",
   "execution_count": 13,
   "id": "tired-panel",
   "metadata": {},
   "outputs": [],
   "source": [
    "end_id_unk = set.difference(set(london['end_station_id']), station_list)"
   ]
  },
  {
   "cell_type": "code",
   "execution_count": 14,
   "id": "continental-reputation",
   "metadata": {},
   "outputs": [
    {
     "data": {
      "text/plain": [
       "[391, 304, 241, 434, 823, 825, 346]"
      ]
     },
     "execution_count": 14,
     "metadata": {},
     "output_type": "execute_result"
    }
   ],
   "source": [
    "station_id_unk = list(start_id_unk | end_id_unk)\n",
    "station_id_unk"
   ]
  },
  {
   "cell_type": "code",
   "execution_count": 15,
   "id": "federal-resource",
   "metadata": {},
   "outputs": [],
   "source": [
    "london = london[~london.start_station_id.isin(station_id_unk)]"
   ]
  },
  {
   "cell_type": "code",
   "execution_count": 16,
   "id": "musical-amino",
   "metadata": {},
   "outputs": [],
   "source": [
    "london = london[~london.end_station_id.isin(station_id_unk)]"
   ]
  },
  {
   "cell_type": "markdown",
   "id": "human-programming",
   "metadata": {},
   "source": [
    "### Create  co-occurance matrix"
   ]
  },
  {
   "cell_type": "markdown",
   "id": "coupled-result",
   "metadata": {},
   "source": [
    "#### 1. before COVID / after COVID"
   ]
  },
  {
   "cell_type": "code",
   "execution_count": 17,
   "id": "dress-malpractice",
   "metadata": {},
   "outputs": [
    {
     "data": {
      "text/plain": [
       "rental_id                                                 61343322\n",
       "duration                                                        60\n",
       "bike_id                                                      12871\n",
       "end_rental_date_time                           2016-12-28 00:01:00\n",
       "end_station_id                                                 660\n",
       "end_station_name          West Kensington Station, West Kensington\n",
       "start_rental_date_time                         2016-12-28 00:00:00\n",
       "start_station_id                                               633\n",
       "start_station_name             Vereker Road North, West Kensington\n",
       "Name: 0, dtype: object"
      ]
     },
     "execution_count": 17,
     "metadata": {},
     "output_type": "execute_result"
    }
   ],
   "source": [
    "london.iloc(0)[0]"
   ]
  },
  {
   "cell_type": "code",
   "execution_count": 18,
   "id": "recent-dollar",
   "metadata": {},
   "outputs": [],
   "source": [
    "# london.loc[0,'end_rental_date_time'] < '2016-12-28 24:00:00'\n",
    "london_before_covid = london.query(\"start_rental_date_time >= '2019-01-01' and start_rental_date_time < '2019-09-01'\")\n",
    "london_after_covid = london.query(\"start_rental_date_time >= '2020-01-01' and start_rental_date_time < '2020-09-01'\")"
   ]
  },
  {
   "cell_type": "code",
   "execution_count": 19,
   "id": "unknown-macro",
   "metadata": {},
   "outputs": [
    {
     "data": {
      "text/html": [
       "<div>\n",
       "<style scoped>\n",
       "    .dataframe tbody tr th:only-of-type {\n",
       "        vertical-align: middle;\n",
       "    }\n",
       "\n",
       "    .dataframe tbody tr th {\n",
       "        vertical-align: top;\n",
       "    }\n",
       "\n",
       "    .dataframe thead th {\n",
       "        text-align: right;\n",
       "    }\n",
       "</style>\n",
       "<table border=\"1\" class=\"dataframe\">\n",
       "  <thead>\n",
       "    <tr style=\"text-align: right;\">\n",
       "      <th></th>\n",
       "      <th>rental_id</th>\n",
       "      <th>duration</th>\n",
       "      <th>bike_id</th>\n",
       "      <th>end_rental_date_time</th>\n",
       "      <th>end_station_id</th>\n",
       "      <th>end_station_name</th>\n",
       "      <th>start_rental_date_time</th>\n",
       "      <th>start_station_id</th>\n",
       "      <th>start_station_name</th>\n",
       "    </tr>\n",
       "  </thead>\n",
       "  <tbody>\n",
       "    <tr>\n",
       "      <th>20871718</th>\n",
       "      <td>83255489</td>\n",
       "      <td>1620.0</td>\n",
       "      <td>13492.0</td>\n",
       "      <td>2019-01-01 00:27:00</td>\n",
       "      <td>228</td>\n",
       "      <td>St. James's Square, St. James's</td>\n",
       "      <td>2019-01-01 00:00:00</td>\n",
       "      <td>228</td>\n",
       "      <td>St. James's Square, St. James's</td>\n",
       "    </tr>\n",
       "    <tr>\n",
       "      <th>20871719</th>\n",
       "      <td>83255490</td>\n",
       "      <td>480.0</td>\n",
       "      <td>13770.0</td>\n",
       "      <td>2019-01-01 00:08:00</td>\n",
       "      <td>212</td>\n",
       "      <td>Campden Hill Road, Notting Hill</td>\n",
       "      <td>2019-01-01 00:00:00</td>\n",
       "      <td>155</td>\n",
       "      <td>Lexham Gardens, Kensington</td>\n",
       "    </tr>\n",
       "    <tr>\n",
       "      <th>20871720</th>\n",
       "      <td>83255488</td>\n",
       "      <td>1680.0</td>\n",
       "      <td>8652.0</td>\n",
       "      <td>2019-01-01 00:28:00</td>\n",
       "      <td>228</td>\n",
       "      <td>St. James's Square, St. James's</td>\n",
       "      <td>2019-01-01 00:00:00</td>\n",
       "      <td>228</td>\n",
       "      <td>St. James's Square, St. James's</td>\n",
       "    </tr>\n",
       "    <tr>\n",
       "      <th>20871721</th>\n",
       "      <td>83255494</td>\n",
       "      <td>6000.0</td>\n",
       "      <td>5063.0</td>\n",
       "      <td>2019-01-01 01:41:00</td>\n",
       "      <td>188</td>\n",
       "      <td>Nutford Place, Marylebone</td>\n",
       "      <td>2019-01-01 00:01:00</td>\n",
       "      <td>44</td>\n",
       "      <td>Bruton Street, Mayfair</td>\n",
       "    </tr>\n",
       "    <tr>\n",
       "      <th>20871722</th>\n",
       "      <td>83255497</td>\n",
       "      <td>840.0</td>\n",
       "      <td>6116.0</td>\n",
       "      <td>2019-01-01 00:15:00</td>\n",
       "      <td>400</td>\n",
       "      <td>George Street, Marylebone</td>\n",
       "      <td>2019-01-01 00:01:00</td>\n",
       "      <td>751</td>\n",
       "      <td>Newton Street, Covent Garden</td>\n",
       "    </tr>\n",
       "  </tbody>\n",
       "</table>\n",
       "</div>"
      ],
      "text/plain": [
       "          rental_id  duration  bike_id end_rental_date_time  end_station_id  \\\n",
       "20871718   83255489    1620.0  13492.0  2019-01-01 00:27:00             228   \n",
       "20871719   83255490     480.0  13770.0  2019-01-01 00:08:00             212   \n",
       "20871720   83255488    1680.0   8652.0  2019-01-01 00:28:00             228   \n",
       "20871721   83255494    6000.0   5063.0  2019-01-01 01:41:00             188   \n",
       "20871722   83255497     840.0   6116.0  2019-01-01 00:15:00             400   \n",
       "\n",
       "                         end_station_name start_rental_date_time  \\\n",
       "20871718  St. James's Square, St. James's    2019-01-01 00:00:00   \n",
       "20871719  Campden Hill Road, Notting Hill    2019-01-01 00:00:00   \n",
       "20871720  St. James's Square, St. James's    2019-01-01 00:00:00   \n",
       "20871721        Nutford Place, Marylebone    2019-01-01 00:01:00   \n",
       "20871722        George Street, Marylebone    2019-01-01 00:01:00   \n",
       "\n",
       "          start_station_id               start_station_name  \n",
       "20871718               228  St. James's Square, St. James's  \n",
       "20871719               155       Lexham Gardens, Kensington  \n",
       "20871720               228  St. James's Square, St. James's  \n",
       "20871721                44           Bruton Street, Mayfair  \n",
       "20871722               751     Newton Street, Covent Garden  "
      ]
     },
     "execution_count": 19,
     "metadata": {},
     "output_type": "execute_result"
    }
   ],
   "source": [
    "london_before_covid.head()"
   ]
  },
  {
   "cell_type": "code",
   "execution_count": 20,
   "id": "assumed-albania",
   "metadata": {},
   "outputs": [],
   "source": [
    "co_matrix_bc = pd.crosstab(london_before_covid['start_station_id'], london_before_covid['end_station_id'])\n",
    "co_matrix_ac = pd.crosstab(london_after_covid['start_station_id'], london_after_covid['end_station_id'])"
   ]
  },
  {
   "cell_type": "code",
   "execution_count": 21,
   "id": "respiratory-tractor",
   "metadata": {},
   "outputs": [],
   "source": [
    "co_matrix_bc.to_csv(\"co_matrix_bc.csv\")"
   ]
  },
  {
   "cell_type": "code",
   "execution_count": 22,
   "id": "characteristic-agreement",
   "metadata": {},
   "outputs": [],
   "source": [
    "co_matrix_ac.to_csv(\"co_matrix_ac.csv\")"
   ]
  },
  {
   "cell_type": "markdown",
   "id": "binding-malaysia",
   "metadata": {},
   "source": [
    "#### 2. Time : 7-10 AM / 13-16 PM / 17-20 PM (start_rental_date_time)"
   ]
  },
  {
   "cell_type": "code",
   "execution_count": 28,
   "id": "speaking-jumping",
   "metadata": {},
   "outputs": [],
   "source": [
    "london_7_10 = london[pd.to_datetime((london['start_rental_date_time'])).dt.strftime('%H:%M:%S').between('07:00:00','10:00:00')]"
   ]
  },
  {
   "cell_type": "code",
   "execution_count": 32,
   "id": "strong-manitoba",
   "metadata": {},
   "outputs": [],
   "source": [
    "london_13_16 = london[pd.to_datetime((london['start_rental_date_time'])).dt.strftime('%H:%M:%S').between('13:00:00','16:00:00')]"
   ]
  },
  {
   "cell_type": "code",
   "execution_count": 30,
   "id": "permanent-protein",
   "metadata": {},
   "outputs": [],
   "source": [
    "london_17_20 = london[pd.to_datetime((london['start_rental_date_time'])).dt.strftime('%H:%M:%S').between('17:00:00','20:00:00')]"
   ]
  },
  {
   "cell_type": "code",
   "execution_count": 33,
   "id": "verified-copyright",
   "metadata": {},
   "outputs": [],
   "source": [
    "co_matrix_7_10 = pd.crosstab(london_7_10['start_station_id'], london_7_10['end_station_id'])\n",
    "co_matrix_13_16 = pd.crosstab(london_13_16['start_station_id'], london_13_16['end_station_id'])\n",
    "co_matrix_17_20 = pd.crosstab(london_17_20['start_station_id'], london_17_20['end_station_id'])"
   ]
  },
  {
   "cell_type": "code",
   "execution_count": 34,
   "id": "still-means",
   "metadata": {},
   "outputs": [],
   "source": [
    "co_matrix_7_10.to_csv(\"co_matrix_7_10.csv\")\n",
    "co_matrix_13_16.to_csv(\"co_matrix_13_16.csv\")\n",
    "co_matrix_17_20.to_csv(\"co_matrix_17_20.csv\")"
   ]
  },
  {
   "cell_type": "code",
   "execution_count": 36,
   "id": "related-allocation",
   "metadata": {},
   "outputs": [
    {
     "name": "stdout",
     "output_type": "stream",
     "text": [
      "# 07-10 : 7968419\n",
      "# 13-16 : 6621299\n",
      "# 17-20 : 10058478\n"
     ]
    }
   ],
   "source": [
    "print('# 07-10 :', len(london_7_10))\n",
    "print('# 13-16 :', len(london_13_16))\n",
    "print('# 17-20 :', len(london_17_20))"
   ]
  },
  {
   "cell_type": "markdown",
   "id": "indonesian-advertiser",
   "metadata": {},
   "source": [
    "#### 3. Duration : ~ 10m / ~ 30m / ~ 60m / ~ 180m / 180m ~"
   ]
  },
  {
   "cell_type": "code",
   "execution_count": 48,
   "id": "minor-contributor",
   "metadata": {},
   "outputs": [],
   "source": [
    "london_10m = london.query(\"duration < 60 * 10\")"
   ]
  },
  {
   "cell_type": "code",
   "execution_count": 52,
   "id": "comic-custom",
   "metadata": {},
   "outputs": [],
   "source": [
    "london_30m = london.query(\"duration >= 60 * 10 and duration < 60 * 30\")"
   ]
  },
  {
   "cell_type": "code",
   "execution_count": 53,
   "id": "looking-geography",
   "metadata": {},
   "outputs": [],
   "source": [
    "london_60m = london.query(\"duration >= 60 *30 and duration < 60 * 60\")"
   ]
  },
  {
   "cell_type": "code",
   "execution_count": 54,
   "id": "optical-optics",
   "metadata": {},
   "outputs": [],
   "source": [
    "london_180m = london.query(\"duration >= 60 *60 and duration < 60 * 180\")"
   ]
  },
  {
   "cell_type": "code",
   "execution_count": 61,
   "id": "modified-hydrogen",
   "metadata": {},
   "outputs": [],
   "source": [
    "london_over_180m = london.query(\"duration >= 60 * 180\")"
   ]
  },
  {
   "cell_type": "code",
   "execution_count": 65,
   "id": "arbitrary-florida",
   "metadata": {},
   "outputs": [
    {
     "name": "stdout",
     "output_type": "stream",
     "text": [
      "# 00m  <= minutes < 10m  : 11505774\n",
      "# 10m  <= minutes < 30m  : 21874962\n",
      "# 30m  <= minutes < 60m  : 3150085\n",
      "# 60m  <= minutes < 180m : 1353686\n",
      "# 180m <= minutes        : 253423\n"
     ]
    }
   ],
   "source": [
    "print('# 00m  <= minutes < 10m  :', len(london_10m))\n",
    "print('# 10m  <= minutes < 30m  :', len(london_30m))\n",
    "print('# 30m  <= minutes < 60m  :', len(london_60m))\n",
    "print('# 60m  <= minutes < 180m :', len(london_180m))\n",
    "print('# 180m <= minutes        :', len(london_over_180m))"
   ]
  },
  {
   "cell_type": "code",
   "execution_count": 66,
   "id": "alert-application",
   "metadata": {},
   "outputs": [],
   "source": [
    "london_10m.to_csv(\"london_10m.csv\")\n",
    "london_30m.to_csv(\"london_30m.csv\")\n",
    "london_60m.to_csv(\"london_60m.csv\")\n",
    "london_180m.to_csv(\"london_180m.csv\")\n",
    "london_over_180m.to_csv(\"london_over_180m.csv\")"
   ]
  }
 ],
 "metadata": {
  "kernelspec": {
   "display_name": "Python 3",
   "language": "python",
   "name": "python3"
  },
  "language_info": {
   "codemirror_mode": {
    "name": "ipython",
    "version": 3
   },
   "file_extension": ".py",
   "mimetype": "text/x-python",
   "name": "python",
   "nbconvert_exporter": "python",
   "pygments_lexer": "ipython3",
   "version": "3.6.9"
  }
 },
 "nbformat": 4,
 "nbformat_minor": 5
}
